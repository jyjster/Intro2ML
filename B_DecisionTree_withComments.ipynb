{
 "cells": [
  {
   "cell_type": "code",
   "execution_count": null,
   "metadata": {},
   "outputs": [],
   "source": [
    "## Jordan's comments are dennoted by 2 #'s\n",
    "\n",
    "# Original code available at: https://www.kaggle.com/dipankarsrirag/decisiontree-tmdb"
   ]
  },
  {
   "cell_type": "code",
   "execution_count": null,
   "metadata": {
    "_cell_guid": "b1076dfc-b9ad-4769-8c92-a6c4dae69d19",
    "_uuid": "8f2839f25d086af736a60e9eeb907d3b93b6e0e5"
   },
   "outputs": [],
   "source": [
    "import numpy as np # linear algebra\n",
    "import pandas as pd # data processing, CSV file I/O (e.g. pd.read_csv)\n",
    "import ast \n",
    "from sklearn.preprocessing import LabelEncoder, MinMaxScaler\n",
    "\n",
    "# Input data files are available in the read-only \"../input/\" directory\n",
    "# For example, running this (by clicking run or pressing Shift+Enter) will list all files under the input directory\n",
    "\n",
    "import os\n",
    "for dirname, _, filenames in os.walk('/kaggle/input'):\n",
    "    for filename in filenames:\n",
    "        print(os.path.join(dirname, filename))\n"
   ]
  },
  {
   "cell_type": "code",
   "execution_count": null,
   "metadata": {
    "_cell_guid": "79c7e3d0-c299-4dcb-8224-4455121ee9b0",
    "_uuid": "d629ff2d2480ee46fbb7e2d37f6b5fab8052498a"
   },
   "outputs": [],
   "source": [
    "df = pd.read_csv('/kaggle/input/tmdb-box-office-prediction/train.csv')\n",
    "df.head()"
   ]
  },
  {
   "cell_type": "code",
   "execution_count": null,
   "metadata": {},
   "outputs": [],
   "source": [
    "def binaryToDecimal(n): \n",
    "    num = n; \n",
    "    dec_value = 0; \n",
    "      \n",
    "    # Initializing base  \n",
    "    # value to 1, i.e 2 ^ 0 \n",
    "    base = 1; \n",
    "      \n",
    "    temp = num; \n",
    "    while(temp): \n",
    "        last_digit = temp % 10; \n",
    "        temp = int(temp / 10); \n",
    "          \n",
    "        dec_value += last_digit * base; \n",
    "        base = base * 2; \n",
    "    return dec_value; \n",
    "\n",
    "\n",
    "## One Hot Encoding\n",
    "def oneHot(ser, train = True):\n",
    "    li = []\n",
    "    leng = len(ser)\n",
    "    for i in ser:\n",
    "        if type(i) == str:\n",
    "            li += [i]\n",
    "            continue\n",
    "        li += i\n",
    "    col = list(pd.Series(li).unique())\n",
    "    encoded = dict([(x, leng*[0]) for x in col])\n",
    "    \n",
    "    for i in range(len(ser)):\n",
    "        if type(ser[i]) == str:\n",
    "            ser[i] = [ser[i]]\n",
    "        try:\n",
    "            for j in ser[i]:\n",
    "                if j in col:\n",
    "                    if train:\n",
    "                        encoded[j][i] = 1\n",
    "                    else:\n",
    "                        encoded[j][i + 3000] = 1\n",
    "        except:\n",
    "            print('i : ', i)\n",
    "            print('j : ', j)\n",
    "    \n",
    "    return pd.DataFrame(encoded)\n",
    "\n",
    "## Feature Engineering/Extraction/Creation\n",
    "\n",
    "def listToNum(data, col, train = True):\n",
    "    x = oneHot(list(data[col]), train)\n",
    "    li = []\n",
    "    for i in range(len(x)):\n",
    "        li.append(int(''.join(list(map(str, list(x.iloc[i, :]))))))\n",
    "\n",
    "    li = pd.Series(li).apply(lambda x : binaryToDecimal(x))\n",
    "    data[col] = li\n",
    "    return data[col]\n",
    "\n",
    "def getData(li, string, priority = False):\n",
    "    \n",
    "    coll = []\n",
    "    for text in li:\n",
    "        if type(text) == float:\n",
    "            continue\n",
    "        samp = text[1:-1].split('}')\n",
    "        for i in range(len(samp)):\n",
    "            samp[i] += '}'\n",
    "            if i > 0:\n",
    "                samp[i] = samp[i][2:]\n",
    "        samp = samp[:-1]\n",
    "        \n",
    "        for i in samp:\n",
    "            dic = ast.literal_eval(i) \n",
    "            coll.append(dic[string])\n",
    "        \n",
    "        if len(coll) > 0:\n",
    "            if priority:\n",
    "                return coll[0]\n",
    "            return coll\n",
    "        return ['None']\n",
    "        \n",
    "def getYear(string):\n",
    "    if type(string) == float:\n",
    "       return None \n",
    "    num = int(string[-2:])\n",
    "    if num > 18:\n",
    "        return 1900 + num\n",
    "    return 2000+num\n",
    "\n",
    "def preProcess(df, train = True):\n",
    "    data = df.copy()\n",
    "    columns = ['belongs_to_collection', 'budget', 'genres', \n",
    "           'popularity', 'production_companies', 'release_date', \n",
    "           'runtime', 'original_language']\n",
    "    if train:\n",
    "        columns.append('revenue')\n",
    "    data = data[columns]\n",
    "\n",
    "    data['collection'] = data.belongs_to_collection.apply(lambda x : getData([x], 'name', priority = True))\n",
    "    data['genres'] = data.genres.apply(lambda x : getData([x], 'name', priority = True))\n",
    "    data['production_companies'] = data.production_companies.apply(lambda x : getData([x], 'name', priority = True))\n",
    "\n",
    "    data.drop('belongs_to_collection', axis = 1, inplace = True)\n",
    "    \n",
    "    ## Fills all null values with \"Not Available\"\n",
    "    data.genres.fillna('Not Available', inplace = True)\n",
    "    #data.genres = listToNum(data, 'genres', train)\n",
    "    \n",
    "    data.production_companies.fillna('Not Available', inplace = True)\n",
    "    \n",
    "    data.collection.fillna('Not Available', inplace = True)\n",
    "    \n",
    "    ## making these numbers floats\n",
    "    data.budget = data.budget.apply(lambda x : float(x))\n",
    "    if train: \n",
    "        data.revenue = data.revenue.apply(lambda x : float(x))\n",
    "    \n",
    "    ## encoding label or categorical columns\n",
    "    lE = LabelEncoder()\n",
    "    data.production_companies = lE.fit_transform(data.production_companies)\n",
    "    data.collection = lE.fit_transform(data.collection)\n",
    "    data.original_language = lE.fit_transform(data.original_language)\n",
    "    data.genres = lE.fit_transform(data.genres)\n",
    "    \n",
    "    ## only looks at year, drops release data\n",
    "    data['year'] = data.release_date.apply(lambda x : getYear(x))\n",
    "    data.drop('release_date', axis = 1, inplace = True)\n",
    "    \n",
    "    data.runtime.fillna(list(data.runtime.describe())[5], inplace = True)\n",
    "    \n",
    "    ## normailizes the date [0,1]\n",
    "    mx = MinMaxScaler()\n",
    "    ser = pd.Series(list(mx.fit_transform(np.array(data.budget).reshape((len(data), -1))))).apply(lambda x : x[0])\n",
    "    data.budget = ser\n",
    "    \n",
    "    return data"
   ]
  },
  {
   "cell_type": "code",
   "execution_count": null,
   "metadata": {},
   "outputs": [],
   "source": [
    "from sklearn.model_selection import train_test_split, RandomizedSearchCV\n",
    "from sklearn.metrics import r2_score\n",
    "\n",
    "train = preProcess(df)\n",
    "\n",
    "y = np.array(train['revenue']).reshape((len(train), -1))\n",
    "X = np.array(train.drop('revenue', axis = 1)).reshape((len(train), -1))\n",
    "\n",
    "## 80% train, 20% test\n",
    "train_x, test_x, train_y, test_y = train_test_split(X, y, test_size = 0.2, random_state = 1)"
   ]
  },
  {
   "cell_type": "code",
   "execution_count": null,
   "metadata": {},
   "outputs": [],
   "source": [
    "from sklearn.tree import DecisionTreeRegressor\n",
    "\n",
    "estimator = DecisionTreeRegressor()\n",
    "estimator.fit(train_x, train_y)\n",
    "estimator.score(train_x, train_y)"
   ]
  },
  {
   "cell_type": "code",
   "execution_count": null,
   "metadata": {},
   "outputs": [],
   "source": [
    "criterion = ['mse', 'mae', 'friedman_mse']\n",
    "splitter = ['best', 'random']\n",
    "max_depth = range(1, 500)\n",
    "max_features = ['auto', 'sqrt', 'log2']\n",
    "\n",
    "random_grid = {\n",
    "    'criterion' : criterion,\n",
    "    'splitter' : splitter,\n",
    "    'max_depth' : max_depth,\n",
    "    'max_features' : max_features\n",
    "}"
   ]
  },
  {
   "cell_type": "code",
   "execution_count": null,
   "metadata": {},
   "outputs": [],
   "source": [
    "## random search cross-validation\n",
    "\n",
    "random_estimator = RandomizedSearchCV(\n",
    "    estimator = estimator,\n",
    "    param_distributions = random_grid,\n",
    "    random_state = 1,\n",
    "    n_jobs = -1,\n",
    "    n_iter = 200\n",
    ")\n",
    "\n",
    "random_estimator.fit(train_x, train_y)\n",
    "estimator = random_estimator.best_estimator_"
   ]
  },
  {
   "cell_type": "code",
   "execution_count": null,
   "metadata": {},
   "outputs": [],
   "source": [
    "r2_score(estimator.predict(test_x), test_y)"
   ]
  },
  {
   "cell_type": "code",
   "execution_count": null,
   "metadata": {},
   "outputs": [],
   "source": [
    "test = preProcess(pd.read_csv('/kaggle/input/tmdb-box-office-prediction/test.csv'), train = False)\n",
    "test.head()"
   ]
  },
  {
   "cell_type": "code",
   "execution_count": null,
   "metadata": {},
   "outputs": [],
   "source": [
    "## filling null values with something?, maybe he's fixing the year\n",
    "test.year.fillna(test.year.describe()[5], inplace = True)"
   ]
  },
  {
   "cell_type": "code",
   "execution_count": null,
   "metadata": {},
   "outputs": [],
   "source": [
    "test = np.array(test).reshape((len(test), -1))"
   ]
  },
  {
   "cell_type": "code",
   "execution_count": null,
   "metadata": {},
   "outputs": [],
   "source": [
    "## ignore this because he's just looking at the sample_submission.csv file\n",
    "sub = pd.read_csv('/kaggle/input/tmdb-box-office-prediction/sample_submission.csv')\n",
    "sub.head()"
   ]
  },
  {
   "cell_type": "code",
   "execution_count": null,
   "metadata": {},
   "outputs": [],
   "source": [
    "## Actual submission\n",
    "\n",
    "sub.revenue = estimator.predict(test)\n",
    "sub.to_csv('submissions.csv', index = False)"
   ]
  }
 ],
 "metadata": {
  "kernelspec": {
   "display_name": "Python 3",
   "language": "python",
   "name": "python3"
  },
  "language_info": {
   "codemirror_mode": {
    "name": "ipython",
    "version": 3
   },
   "file_extension": ".py",
   "mimetype": "text/x-python",
   "name": "python",
   "nbconvert_exporter": "python",
   "pygments_lexer": "ipython3",
   "version": "3.8.5"
  }
 },
 "nbformat": 4,
 "nbformat_minor": 4
}
