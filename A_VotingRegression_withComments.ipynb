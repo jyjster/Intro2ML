{
 "cells": [
  {
   "cell_type": "code",
   "execution_count": null,
   "metadata": {},
   "outputs": [],
   "source": [
    "# original at: https://www.kaggle.com/nehalbandal/tmdb-revenue-prediction-eda-ml-pipeline"
   ]
  },
  {
   "cell_type": "markdown",
   "metadata": {},
   "source": [
    "## Step 3: Data Preprocessing"
   ]
  },
  {
   "cell_type": "markdown",
   "metadata": {},
   "source": [
    "- In this step I will create a pipeline to handle all data preprocessing operations.\n",
    "- Pipeline will do following tasks:\n",
    "    - Dropping unwanted columns\n",
    "    - Fill null values\n",
    "    - Scaling numerical features\n",
    "    (putting something into a range that makes more sense, e.g. normalize and standardize)\n",
    "    - Encoding single valued & multivalued categorical fields \n",
    "    (converting something into a different representation, e.g. string to #s)\n",
    "    - Creating new features from existing ones\n",
    "    "
   ]
  },
  {
   "cell_type": "code",
   "execution_count": 114,
   "metadata": {},
   "outputs": [],
   "source": [
    "from sklearn.impute import SimpleImputer\n",
    "from sklearn.compose import ColumnTransformer\n",
    "from sklearn.base import BaseEstimator, TransformerMixin\n",
    "from sklearn.pipeline import Pipeline\n",
    "from sklearn.preprocessing import OneHotEncoder, PowerTransformer, MultiLabelBinarizer"
   ]
  },
  {
   "cell_type": "code",
   "execution_count": 115,
   "metadata": {},
   "outputs": [
    {
     "data": {
      "text/plain": [
       "((3000, 22), (3000,))"
      ]
     },
     "execution_count": 115,
     "metadata": {},
     "output_type": "execute_result"
    }
   ],
   "source": [
    "# X is data without revenue column\n",
    "X = data.drop(columns=['revenue'], axis=1).copy()\n",
    "# Y is the all the values in the revenue column (just the revenue column)\n",
    "y = data['revenue'].copy()\n",
    "X.shape, y.shape"
   ]
  },
  {
   "cell_type": "code",
   "execution_count": 116,
   "metadata": {},
   "outputs": [],
   "source": [
    "from collections import Counter\n",
    "top_30_values = dict()\n",
    "\n",
    "## GENRES\n",
    "# create a list of genre names (3000), skip nulls\n",
    "list_of_genres_names = list(X['genres'].apply(lambda x: [] if pd.isna(x) else ast.literal_eval(x)).apply(lambda x: [i['name'] for i in x] if x != {} else []).values)\n",
    "# get the 30 most occuring genres (with genres and # of occurences/frequency)\n",
    "## [('Drama', 1531), ('Comedy', 1028), ('Thriller', 789), ('Action', 741), ('Romance', 571), ('Crime', 469), ('Adventure', 439), ('Horror', 301), ('Science Fiction', 290), ('Family', 260), ('Fantasy', 232), ('Mystery', 225), ('Animation', 141), ('History', 132), ('Music', 100), ('War', 100), ('Documentary', 87), ('Western', 43), ('Foreign', 31), ('TV Movie', 1)]\n",
    "top_30_genres = (Counter([i for j in list_of_genres_names for i in j]).most_common(30))\n",
    "# make a list of just the 30 genre names\n",
    "# ['Drama', 'Comedy', 'Thriller', 'Action', 'Romance', 'Crime', 'Adventure', 'Horror', 'Science Fiction', 'Family', 'Fantasy', 'Mystery', 'Animation', 'History', 'Music', 'War', 'Documentary', 'Western', 'Foreign', 'TV Movie']\n",
    "top_30_values['genres'] = [x for x, y in top_30_genres]\n",
    "# print(top_30_values['genres'])\n",
    "\n",
    "## PRODUCTION COMPANIES\n",
    "list_of_production_companies_names = list(X['production_companies'].apply(lambda x: [] if pd.isna(x) else ast.literal_eval(x)).apply(lambda x: [i['name'] for i in x] if x != {} else []).values)\n",
    "top_30_production_companies = (Counter([i for j in list_of_production_companies_names for i in j]).most_common(30))\n",
    "top_30_values['production_companies'] = [x for x, y in top_30_production_companies]\n",
    "\n",
    "## PRODUCTION COUNTRIES\n",
    "list_of_production_countries_names = list(X['production_countries'].apply(lambda x: [] if pd.isna(x) else ast.literal_eval(x)).apply(lambda x: [i['name'] for i in x] if x != {} else []).values)\n",
    "top_30_production_countries = (Counter([i for j in list_of_production_countries_names for i in j]).most_common(30))\n",
    "top_30_values['production_countries'] = [x for x, y in top_30_production_countries]\n",
    "\n",
    "## PLOT KEYWORDS\n",
    "list_of_keywords = list(X['Keywords'].apply(lambda x: [] if pd.isna(x) else ast.literal_eval(x)).apply(lambda x: [i['name'] for i in x] if x != {} else []).values)\n",
    "top_30_keywords = (Counter([i for j in list_of_keywords for i in j]).most_common(30))\n",
    "top_30_values['Keywords'] = [x for x, y in top_30_keywords]\n",
    "\n",
    "## CAST (ACTORS)\n",
    "list_of_cast_names = list(X['cast'].apply(lambda x: [] if pd.isna(x) else ast.literal_eval(x)).apply(lambda x: [i['name'] for i in x if i['order'] in (0, 1, 2)] if x != {} else []).values)\n",
    "top_30_cast = (Counter([i for j in list_of_cast_names for i in j]).most_common(30))\n",
    "top_30_values['cast'] = [x for x, y in top_30_cast]"
   ]
  },
  {
   "cell_type": "code",
   "execution_count": 117,
   "metadata": {},
   "outputs": [],
   "source": [
    "# drop unwanted columns, assumption being that none of these relate to/inform a movie's revenue\n",
    "drop_cols = ['id', 'homepage', 'imdb_id', 'original_title', 'spoken_languages', 'overview', 'poster_path', 'tagline', 'title', 'crew']\n",
    "\n",
    "encoded_cols = [] # This will contain all the encoded column names of multivalued field"
   ]
  },
  {
   "cell_type": "code",
   "execution_count": 118,
   "metadata": {},
   "outputs": [],
   "source": [
    "class CustomAttr(BaseEstimator, TransformerMixin):\n",
    "    def __init__(self):\n",
    "        pass\n",
    "    \n",
    "    def fit(self, X, y=None):\n",
    "        return self\n",
    "    \n",
    "    def transform(self, X):\n",
    "        try:\n",
    "            X['is_sequel'] = X['belongs_to_collection'].apply(lambda x: 0 if pd.isna(x) else 1)\n",
    "#             print(\"is_sequel attribute added!\")\n",
    "            # fililng null values with 0\n",
    "            # makes belongs_to_collection --> binary field is_sequel\n",
    "        \n",
    "        \n",
    "            # taking the release_date and splitting it into multiple attributes (year, month, day, day of week)\n",
    "            X['release_date']= X['release_date'].apply(lambda x: self.modify_date(x))\n",
    "            \n",
    "            X['release_year'] = pd.DatetimeIndex(X['release_date']).year\n",
    "#             print(\"release_year attribute added!\")\n",
    "            \n",
    "            X['release_month'] = pd.DatetimeIndex(X['release_date']).month\n",
    "#             print(\"release_month attribute added!\")\n",
    "            \n",
    "        \n",
    "            X['release_day'] = pd.DatetimeIndex(X['release_date']).day\n",
    "#             print(\"release_day attribute added!\")\n",
    "            \n",
    "            X['release_dow'] = pd.DatetimeIndex(X['release_date']).dayofweek\n",
    "#             print(\"release_dow attribute added!\")\n",
    "            \n",
    "            X = X.drop(['belongs_to_collection', 'release_date'], axis=1)\n",
    "#             print(\"belongs_to_collection, release_date attribute removed!\")\n",
    "            return X\n",
    "        \n",
    "        #print this error message when something blows up\n",
    "        except Exception as e:\n",
    "            print(\"CustomAttr: Exception caught: {}\".format(e))\n",
    "\n",
    "    @staticmethod\n",
    "    def modify_date(x):\n",
    "        \"\"\"\n",
    "            Converting date: mm/dd/YY to mm/dd/YYYY\n",
    "            NaN date fields are handle here only.\n",
    "        \"\"\"\n",
    "        try:\n",
    "            if x is np.nan:\n",
    "                x='01/01/00'\n",
    "            x=str(x)\n",
    "            year=x.split('/')[2]\n",
    "            if int(year)<20:\n",
    "                return x[:-2]+'20'+year\n",
    "            else:\n",
    "                return x[:-2]+'19'+year\n",
    "        except Exception as e:\n",
    "            print(\"CustomAttr: modify_date() function -  exception caught for date {}: {}\".format(x,e))"
   ]
  },
  {
   "cell_type": "code",
   "execution_count": 119,
   "metadata": {},
   "outputs": [],
   "source": [
    "class JSONHandler(BaseEstimator, TransformerMixin):\n",
    "    def __init__(self):\n",
    "        \"\"\"\n",
    "        For each multivalued field, there will be a MultiLabelBinarizer.\n",
    "        \"\"\"\n",
    "        self.mlbs = dict()\n",
    "    \n",
    "    def fit(self, X, y=None):\n",
    "        return self\n",
    "    \n",
    "    def transform(self, X):\n",
    "        for col in list(X.columns):\n",
    "            try:\n",
    "                X[col] = X[col].apply(lambda x: [] if pd.isna(x) else ast.literal_eval(x))\n",
    "                X[col] = X[col].apply(lambda x: self.get_names(x, col))\n",
    "                if not (col in self.mlbs.keys()):\n",
    "                    self.mlbs[col] = MultiLabelBinarizer()\n",
    "                    X_enc = pd.DataFrame(self.mlbs[col].fit_transform(X[col]),columns=self.mlbs[col].classes_, \n",
    "                                         index=X.index)\n",
    "                    encoded_cols.extend(list(self.mlbs[col].classes_))\n",
    "                else:\n",
    "                    X_enc = pd.DataFrame(self.mlbs[col].transform(X[col]),columns=self.mlbs[col].classes_, \n",
    "                                         index=X.index)\n",
    "                X = X.drop(col, axis=1)\n",
    "                X = pd.concat([X, X_enc], axis=1)\n",
    "#                 print(\"{}, {}, {}\".format(col, X_enc.shape, X.shape))\n",
    "#                 print(\"{} attribute encoded &  removed!\".format(col))\n",
    "            except Exception as e:\n",
    "                print(\"JSONHandler: Exception caught for {}: {}\".format(col,e))\n",
    "        return X\n",
    "       \n",
    "\n",
    "    @staticmethod\n",
    "    def get_names(x, col):\n",
    "        \"\"\"\n",
    "            Get the name field value from JSON object.\n",
    "        \"\"\"\n",
    "        names = []\n",
    "        try:\n",
    "            #replacing things without field in the top 30 with a value of 'other_'+col\n",
    "            names = [item['name'] for item in x if item['name'] in top_30_values[col]]\n",
    "            if len(names)==0:\n",
    "                names.append('other_'+col)\n",
    "            return names\n",
    "        except Exception as e:\n",
    "            print(\"JSONHandler: get_names() function -  exception caught {}: {}\".format(x,e))"
   ]
  },
  {
   "cell_type": "code",
   "execution_count": 120,
   "metadata": {},
   "outputs": [
    {
     "data": {
      "text/plain": [
       "(3000, 191)"
      ]
     },
     "execution_count": 120,
     "metadata": {},
     "output_type": "execute_result"
    }
   ],
   "source": [
    "num_pipeline = Pipeline([('imputer', SimpleImputer(strategy='median')),\n",
    "                        ('scaler', PowerTransformer())])\n",
    "\n",
    "cat_pipeline = Pipeline([('imputer', SimpleImputer(strategy='most_frequent')),\n",
    "                         ('cat_enc', OneHotEncoder(handle_unknown='ignore'))])\n",
    "\n",
    "# summary of prepocessing operations\n",
    "pre_process = ColumnTransformer([('drop_cols', 'drop', drop_cols),\n",
    "                                 ('num_process', num_pipeline, ['budget', 'popularity', 'runtime']),\n",
    "                                 ('add_custom_attrs', CustomAttr(), ['belongs_to_collection', 'release_date']),\n",
    "                                 ('cat_process', cat_pipeline, ['original_language', 'status']),\n",
    "                                 ('jason_handler', JSONHandler(), ['genres', 'production_companies', 'production_countries', 'Keywords', 'cast'])], remainder='passthrough')\n",
    "\n",
    "# apply the fit_transform ML thing to pre-processed data\n",
    "X_transformed = pre_process.fit_transform(X)\n",
    "X_transformed.shape"
   ]
  },
  {
   "cell_type": "code",
   "execution_count": 121,
   "metadata": {},
   "outputs": [
    {
     "data": {
      "text/plain": [
       "((2400, 191), (600, 191))"
      ]
     },
     "execution_count": 121,
     "metadata": {},
     "output_type": "execute_result"
    }
   ],
   "source": [
    "from sklearn.model_selection import train_test_split\n",
    "\n",
    "# splitting data in test data 20% (600), training 80% (2,400)\n",
    "X_train_transformed, X_test_transformed, y_train, y_test = train_test_split(X_transformed, np.log1p(y), test_size=0.2, random_state=42)\n",
    "X_train_transformed.shape, X_test_transformed.shape"
   ]
  },
  {
   "cell_type": "code",
   "execution_count": 122,
   "metadata": {},
   "outputs": [
    {
     "data": {
      "text/plain": [
       "191"
      ]
     },
     "execution_count": 122,
     "metadata": {},
     "output_type": "execute_result"
    }
   ],
   "source": [
    "feature_columns = ['budget', 'popularity', 'runtime', 'is_sequel', 'release_year', 'release_month', 'release_day', 'release_dow'] + list(pre_process.transformers_[3][1]['cat_enc'].get_feature_names(['original_language', 'status'])) + encoded_cols\n",
    "# top 30 values become a feature (22 to 191 columns)\n",
    "# ['budget', 'popularity', 'runtime', 'is_sequel', 'release_year', 'release_month', 'release_day', 'release_dow', 'original_language_ar', 'original_language_bn', 'original_language_cn', 'original_language_cs', 'original_language_da', 'original_language_de', 'original_language_el', 'original_language_en', 'original_language_es', 'original_language_fa', 'original_language_fi', 'original_language_fr', 'original_language_he', 'original_language_hi', 'original_language_hu', 'original_language_id', 'original_language_it', 'original_language_ja', 'original_language_ko', 'original_language_ml', 'original_language_mr', 'original_language_nb', 'original_language_nl', 'original_language_no', 'original_language_pl', 'original_language_pt', 'original_language_ro', 'original_language_ru', 'original_language_sr', 'original_language_sv', 'original_language_ta', 'original_language_te', 'original_language_tr', 'original_language_ur', 'original_language_vi', 'original_language_zh', 'status_Released', 'status_Rumored', 'Action', 'Adventure', 'Animation', 'Comedy', 'Crime', 'Documentary', 'Drama', 'Family', 'Fantasy', 'Foreign', 'History', 'Horror', 'Music', 'Mystery', 'Romance', 'Science Fiction', 'TV Movie', 'Thriller', 'War', 'Western', 'other_genres', 'Amblin Entertainment', 'BBC Films', 'Canal+', 'Columbia Pictures', 'Columbia Pictures Corporation', 'Dimension Films', 'DreamWorks SKG', 'Dune Entertainment', 'Fox 2000 Pictures', 'Fox Searchlight Pictures', 'Hollywood Pictures', 'Lionsgate', 'Metro-Goldwyn-Mayer (MGM)', 'Miramax Films', 'New Line Cinema', 'Orion Pictures', 'Paramount Pictures', 'Regency Enterprises', 'Relativity Media', 'StudioCanal', 'Summit Entertainment', 'Touchstone Pictures', 'TriStar Pictures', 'Twentieth Century Fox Film Corporation', 'United Artists', 'Universal Pictures', 'Village Roadshow Pictures', 'Walt Disney Pictures', 'Warner Bros.', 'Working Title Films', 'other_production_companies', 'Australia', 'Austria', 'Belgium', 'Brazil', 'Canada', 'China', 'Czech Republic', 'Denmark', 'France', 'Germany', 'Hong Kong', 'Hungary', 'India', 'Ireland', 'Italy', 'Japan', 'Luxembourg', 'Mexico', 'Netherlands', 'New Zealand', 'Romania', 'Russia', 'South Africa', 'South Korea', 'Spain', 'Sweden', 'Switzerland', 'United Arab Emirates', 'United Kingdom', 'United States of America', 'other_production_countries', 'aftercreditsstinger', 'based on novel', 'biography', 'drug', 'duringcreditsstinger', 'dystopia', 'family', 'father son relationship', 'female nudity', 'friendship', 'high school', 'independent film', 'investigation', 'kidnapping', 'los angeles', 'love', 'murder', 'musical', 'new york', 'nudity', 'other_Keywords', 'police', 'prison', 'revenge', 'sequel', 'sex', 'sport', 'suspense', 'teenager', 'violence', 'woman director', 'Bruce Willis', 'Christian Bale', 'Colin Farrell', 'Dennis Quaid', 'Denzel Washington', 'Eddie Murphy', 'Ethan Hawke', 'Ewan McGregor', 'Gene Hackman', 'George Clooney', 'Harrison Ford', 'Jason Statham', 'John Cusack', 'Johnny Depp', 'Julia Roberts', 'Liam Neeson', 'Mark Wahlberg', 'Matt Damon', 'Mel Gibson', 'Meryl Streep', 'Michael Caine', 'Morgan Freeman', 'Nicolas Cage', 'Owen Wilson', 'Robert De Niro', 'Russell Crowe', 'Samuel L. Jackson', 'Susan Sarandon', 'Sylvester Stallone', 'Tom Hanks', 'other_cast']\n",
    "len(feature_columns)\n",
    "# print(feature_columns)"
   ]
  },
  {
   "cell_type": "markdown",
   "metadata": {},
   "source": [
    "## Step 4: Modelling"
   ]
  },
  {
   "cell_type": "code",
   "execution_count": 123,
   "metadata": {},
   "outputs": [],
   "source": [
    "from sklearn.model_selection import KFold\n",
    "# 5-fold cross validation\n",
    "kf = KFold(n_splits=5, shuffle=True, random_state=42)"
   ]
  },
  {
   "cell_type": "code",
   "execution_count": 124,
   "metadata": {},
   "outputs": [],
   "source": [
    "from sklearn.model_selection import cross_val_score\n",
    "\n",
    "results = []\n",
    "\n",
    "def performance_measures(model, store_results=True):    \n",
    "    train_rmses = cross_val_score(model, X_train_transformed, y_train, scoring='neg_root_mean_squared_error', cv=kf, n_jobs=-1)\n",
    "    train_rmses *= -1\n",
    "    train_mean_rmse = np.mean(train_rmses)\n",
    "    \n",
    "    test_rmses = cross_val_score(model, X_test_transformed, y_test, scoring='neg_root_mean_squared_error', cv=kf, n_jobs=-1)\n",
    "    test_rmses *= -1\n",
    "    test_mean_rmse = np.mean(test_rmses)\n",
    "    \n",
    "    print(\"Train Mean RMSE: {}\\nTest Mean RMSE: {}\".format(train_mean_rmse, test_mean_rmse))\n",
    "    \n",
    "    if store_results:\n",
    "        results.append([model.__class__.__name__, train_mean_rmse, test_mean_rmse])"
   ]
  },
  {
   "cell_type": "code",
   "execution_count": 125,
   "metadata": {},
   "outputs": [],
   "source": [
    "def plot_feature_importance(feature_columns, importance_values):\n",
    "    feature_imp = [ col for col in zip(feature_columns, importance_values)]\n",
    "    feature_imp.sort(key=lambda x:x[1], reverse=True)\n",
    "\n",
    "    imp = pd.DataFrame(feature_imp[0:15], columns=['feature', 'importance'])\n",
    "    plt.figure(figsize=(10, 8))\n",
    "    sns.barplot(y='feature', x='importance', data=imp, orient='h')\n",
    "    plt.title('15 Most Important Features', fontsize=16)\n",
    "    plt.ylabel(\"Feature\", fontsize=16)\n",
    "    plt.xlabel(\"\")\n",
    "    plt.show()"
   ]
  },
  {
   "cell_type": "code",
   "execution_count": 126,
   "metadata": {},
   "outputs": [
    {
     "data": {
      "text/plain": [
       "Ridge(alpha=1, random_state=42)"
      ]
     },
     "execution_count": 126,
     "metadata": {},
     "output_type": "execute_result"
    }
   ],
   "source": [
    "from sklearn.linear_model import Ridge\n",
    "\n",
    "ridge_reg = Ridge(alpha=1, random_state=42)\n",
    "ridge_reg.fit(X_train_transformed, y_train)"
   ]
  },
  {
   "cell_type": "code",
   "execution_count": 127,
   "metadata": {},
   "outputs": [
    {
     "data": {
      "image/png": "[encoded data removed]",
      "text/plain": [
       "<Figure size 720x576 with 1 Axes>"
      ]
     },
     "metadata": {
      "needs_background": "light"
     },
     "output_type": "display_data"
    }
   ],
   "source": [
    "plot_feature_importance(feature_columns, ridge_reg.coef_)"
   ]
  },
  {
   "cell_type": "code",
   "execution_count": 128,
   "metadata": {},
   "outputs": [
    {
     "name": "stdout",
     "output_type": "stream",
     "text": [
      "Train Mean RMSE: 2.2808258593945636\n",
      "Test Mean RMSE: 2.264043608500647\n"
     ]
    }
   ],
   "source": [
    "performance_measures(ridge_reg) "
   ]
  },
  {
   "cell_type": "code",
   "execution_count": 129,
   "metadata": {},
   "outputs": [
    {
     "data": {
      "text/plain": [
       "RandomForestRegressor(max_depth=16, max_features=0.2, n_estimators=500,\n",
       "                      n_jobs=-1, random_state=42)"
      ]
     },
     "execution_count": 129,
     "metadata": {},
     "output_type": "execute_result"
    }
   ],
   "source": [
    "from sklearn.ensemble import RandomForestRegressor\n",
    "\n",
    "forest_reg = RandomForestRegressor(n_estimators=500, max_depth=16, max_features=0.2, n_jobs=-1, random_state=42)\n",
    "forest_reg.fit(X_train_transformed, y_train)"
   ]
  },
  {
   "cell_type": "code",
   "execution_count": 130,
   "metadata": {},
   "outputs": [
    {
     "data": {
      "image/png": "[encoded data removed]",
      "text/plain": [
       "<Figure size 720x576 with 1 Axes>"
      ]
     },
     "metadata": {
      "needs_background": "light"
     },
     "output_type": "display_data"
    }
   ],
   "source": [
    "plot_feature_importance(feature_columns, forest_reg.feature_importances_)"
   ]
  },
  {
   "cell_type": "code",
   "execution_count": 131,
   "metadata": {},
   "outputs": [
    {
     "name": "stdout",
     "output_type": "stream",
     "text": [
      "Train Mean RMSE: 2.148169237158104\n",
      "Test Mean RMSE: 2.064892237852187\n"
     ]
    }
   ],
   "source": [
    "performance_measures(forest_reg)"
   ]
  },
  {
   "cell_type": "code",
   "execution_count": 132,
   "metadata": {},
   "outputs": [
    {
     "data": {
      "text/plain": [
       "XGBRegressor(base_score=0.5, booster='gbtree', colsample_bylevel=0.5,\n",
       "             colsample_bynode=1, colsample_bytree=0.6, gamma=1.0, gpu_id=-1,\n",
       "             importance_type='gain', interaction_constraints='',\n",
       "             learning_rate=0.01, max_delta_step=0, max_depth=14,\n",
       "             min_child_weight=1, missing=nan, monotone_constraints='()',\n",
       "             n_estimators=1000, n_jobs=-1, num_parallel_tree=1, random_state=42,\n",
       "             reg_alpha=0, reg_lambda=1, scale_pos_weight=1, subsample=0.7,\n",
       "             tree_method='exact', validate_parameters=1, verbosity=None)"
      ]
     },
     "execution_count": 132,
     "metadata": {},
     "output_type": "execute_result"
    }
   ],
   "source": [
    "from xgboost import XGBRegressor\n",
    "\n",
    "xgb_reg = XGBRegressor(objective='reg:squarederror', n_estimators = 1000, max_depth = 14, learning_rate = 0.01, \n",
    "                       gamma=1.0, subsample = 0.7, colsample_bytree = 0.6, colsample_bylevel = 0.5, \n",
    "                       random_state=42, n_jobs=-1)\n",
    "xgb_reg.fit(X_train_transformed, y_train)"
   ]
  },
  {
   "cell_type": "code",
   "execution_count": 133,
   "metadata": {},
   "outputs": [
    {
     "data": {
      "image/png": "[encoded data removed]",
      "text/plain": [
       "<Figure size 720x576 with 1 Axes>"
      ]
     },
     "metadata": {
      "needs_background": "light"
     },
     "output_type": "display_data"
    }
   ],
   "source": [
    "plot_feature_importance(feature_columns, xgb_reg.feature_importances_)"
   ]
  },
  {
   "cell_type": "code",
   "execution_count": 134,
   "metadata": {},
   "outputs": [
    {
     "name": "stdout",
     "output_type": "stream",
     "text": [
      "Train Mean RMSE: 2.1443107490541533\n",
      "Test Mean RMSE: 2.0824226096281455\n"
     ]
    }
   ],
   "source": [
    "performance_measures(xgb_reg)"
   ]
  },
  {
   "cell_type": "code",
   "execution_count": null,
   "metadata": {},
   "outputs": [],
   "source": [
    "from catboost import CatBoostRegressor\n",
    "\n",
    "cat_boost_reg = CatBoostRegressor(loss_function='RMSE', bagging_temperature = 0.3, colsample_bylevel = 0.7, \n",
    "                                  depth = 9, eval_metric = 'RMSE', iterations = 1500, \n",
    "                                  random_state=42, verbose=0)\n",
    "cat_boost_reg.fit(X_train_transformed, y_train)"
   ]
  },
  {
   "cell_type": "code",
   "execution_count": null,
   "metadata": {},
   "outputs": [],
   "source": [
    "plot_feature_importance(feature_columns, cat_boost_reg.feature_importances_)"
   ]
  },
  {
   "cell_type": "code",
   "execution_count": null,
   "metadata": {},
   "outputs": [],
   "source": [
    "performance_measures(cat_boost_reg)"
   ]
  },
  {
   "cell_type": "code",
   "execution_count": null,
   "metadata": {},
   "outputs": [],
   "source": [
    "from lightgbm import LGBMRegressor\n",
    "\n",
    "lgb_reg = LGBMRegressor(objective = 'regression', num_iterations = 100, max_depth = 12, learning_rate= 0.03, \n",
    "                        metric = 'rmse', colsample_bytree= 0.6, subsample_freq= 1, subsample= 0.5, n_jobs=-1, \n",
    "                        random_state=42)\n",
    "lgb_reg.fit(X_train_transformed, y_train)"
   ]
  },
  {
   "cell_type": "code",
   "execution_count": null,
   "metadata": {},
   "outputs": [],
   "source": [
    "plot_feature_importance(feature_columns, lgb_reg.feature_importances_)"
   ]
  },
  {
   "cell_type": "code",
   "execution_count": null,
   "metadata": {},
   "outputs": [],
   "source": [
    "performance_measures(lgb_reg)"
   ]
  },
  {
   "cell_type": "code",
   "execution_count": null,
   "metadata": {},
   "outputs": [],
   "source": [
    "from sklearn.ensemble import VotingRegressor\n",
    "\n",
    "named_estimators = [('cat_bost', cat_boost_reg), ('xgb_reg', xgb_reg), ('lgb_reg', lgb_reg), ('forest_reg', forest_reg), ('ridge_reg', ridge_reg)]\n",
    "\n",
    "voting_reg = VotingRegressor(estimators=named_estimators, n_jobs=-1)\n",
    "voting_reg.fit(X_train_transformed, y_train)"
   ]
  },
  {
   "cell_type": "code",
   "execution_count": null,
   "metadata": {},
   "outputs": [],
   "source": [
    "performance_measures(voting_reg)"
   ]
  },
  {
   "cell_type": "markdown",
   "metadata": {},
   "source": [
    "## Step 5: Model Evaluation"
   ]
  },
  {
   "cell_type": "code",
   "execution_count": null,
   "metadata": {},
   "outputs": [],
   "source": [
    "pd.DataFrame(results, columns=['Model', 'Train RMSE', 'Test RMSE'])"
   ]
  },
  {
   "cell_type": "markdown",
   "metadata": {},
   "source": [
    "- Among all models voting regressor gives better RMLSE. I will be taking it as a final model\n",
    "- Now lets see how model is performing on overall dataset. This will be helpful to understand where the model is accurate and where it is not."
   ]
  },
  {
   "cell_type": "code",
   "execution_count": null,
   "metadata": {},
   "outputs": [],
   "source": [
    "predicted_revenue = voting_reg.predict(X_transformed)\n",
    "overall_data = X.copy()\n",
    "overall_data['revenue'] = y.copy()\n",
    "overall_data['predicted_revenue'] = np.expm1(predicted_revenue)"
   ]
  },
  {
   "cell_type": "code",
   "execution_count": null,
   "metadata": {},
   "outputs": [],
   "source": [
    "overall_data.head(n=2)"
   ]
  },
  {
   "cell_type": "code",
   "execution_count": null,
   "metadata": {},
   "outputs": [],
   "source": [
    "plt.figure(figsize=(10, 5))\n",
    "sns.scatterplot(x='budget', y='revenue', data=overall_data, label='Observed')\n",
    "sns.scatterplot(x='budget', y='predicted_revenue', data=overall_data, color='red', label='Predicted')\n",
    "plt.ylim(0, 750000000)\n",
    "plt.xlim(0, 250000000)\n",
    "plt.xlabel('Budget', fontsize=14)\n",
    "plt.ylabel('Revenue', fontsize=14)\n",
    "ax = plt.gca()\n",
    "ax.get_xaxis().get_major_formatter().set_scientific(False)\n",
    "ax.get_yaxis().get_major_formatter().set_scientific(False)\n",
    "ax.set_title('Revenue Vs. Budget')\n",
    "plt.show()"
   ]
  },
  {
   "cell_type": "markdown",
   "metadata": {},
   "source": [
    "- We can see that model is failed to predict the high revenue movies. There are many low budget high earning movies for which model has predicted less revenue.\n",
    "- Also model is less accuracte for high budget films.\n",
    "\n",
    "NOTE: model isn't doing well in 2 cases: 1) high budget movie w/ low revenue  and 2) low budget with high revenue\n",
    "--> as if linear regression on budget breaks / too simple --> more factors at play"
   ]
  },
  {
   "cell_type": "code",
   "execution_count": null,
   "metadata": {},
   "outputs": [],
   "source": [
    "plt.figure(figsize=(10, 5))\n",
    "sns.scatterplot(x='popularity', y='revenue', data=overall_data, label='Observed')\n",
    "sns.scatterplot(x='popularity', y='predicted_revenue', data=overall_data, color='red', label='Predicted')\n",
    "plt.ylim(0, 500000000)\n",
    "plt.xlim(0, 50)\n",
    "plt.xlabel('Popularity', fontsize=14)\n",
    "plt.ylabel('Revenue', fontsize=14)\n",
    "ax = plt.gca()\n",
    "ax.get_xaxis().get_major_formatter().set_scientific(False)\n",
    "ax.get_yaxis().get_major_formatter().set_scientific(False)\n",
    "ax.set_title('Revenue Vs. Popularity')\n",
    "plt.show()"
   ]
  },
  {
   "cell_type": "markdown",
   "metadata": {},
   "source": [
    "- For most popular movies, model is less accuracte.\n",
    "- It seems that model has learn that for least popular movies revenue will be less. We can see that in bottom left corner, there are least popular movies which have earn high revenue, but model has predicted less."
   ]
  },
  {
   "cell_type": "code",
   "execution_count": null,
   "metadata": {},
   "outputs": [],
   "source": [
    "year_info = overall_data[['release_date', 'revenue', 'predicted_revenue']].copy()\n",
    "year_info['release_date']=year_info['release_date'].apply(lambda x: modify_date(x))\n",
    "year_info['release_year'] = pd.DatetimeIndex(year_info['release_date']).year\n",
    "year_info = year_info.groupby(['release_year']).median()\n",
    "year_info = year_info.sort_values('release_year')\n",
    "\n",
    "release_years = list(year_info.index)\n",
    "x_indexes = np.arange(len(release_years))     \n",
    "width = 0.25                            \n",
    "\n",
    "plt.figure(figsize=(10, 5))\n",
    "plt.bar(x_indexes,  year_info['revenue'], label=\"Median Observed Movies Revenue\", width=width)\n",
    "plt.bar(x_indexes + width,  year_info['predicted_revenue'], label=\"Median Predicted Movies Revenue\", width=width)\n",
    "plt.legend(loc=\"upper left\", fontsize=12)\n",
    "plt.xticks(ticks=x_indexes+0.5, labels=release_years, fontsize=12, rotation=-45)\n",
    "plt.title('1990-2017')\n",
    "plt.xlabel('Release Year', fontsize=12)\n",
    "plt.ylabel('Revenue', fontsize=12)\n",
    "plt.xlim(left=61.5, right=90)\n",
    "plt.ylim(top=50000000)\n",
    "ax = plt.gca()\n",
    "ax.get_yaxis().get_major_formatter().set_scientific(False)\n",
    "plt.show()"
   ]
  },
  {
   "cell_type": "code",
   "execution_count": null,
   "metadata": {},
   "outputs": [],
   "source": [
    "x_indexes = np.arange(len(release_years))     \n",
    "width = 0.35                            \n",
    "\n",
    "plt.figure(figsize=(10, 5))\n",
    "plt.bar(x_indexes,  year_info['revenue'], label=\"Median Observed Movies Revenue\", width=width)\n",
    "plt.bar(x_indexes + width,  year_info['predicted_revenue'], label=\"Median Predicted Movies Revenue\", width=width)\n",
    "plt.legend(loc=\"upper left\", fontsize=12)\n",
    "plt.xticks(ticks=x_indexes+0.5, labels=release_years, fontsize=12, rotation=-45)\n",
    "plt.title('1960-1989')\n",
    "plt.xlabel('Release Year', fontsize=12)\n",
    "plt.ylabel('Revenue', fontsize=12)\n",
    "plt.xlim(left=32, right=62)\n",
    "plt.ylim(top=80000000)\n",
    "ax = plt.gca()\n",
    "ax.get_yaxis().get_major_formatter().set_scientific(False)\n",
    "plt.show()"
   ]
  },
  {
   "cell_type": "markdown",
   "metadata": {},
   "source": [
    "## Step 6: Make Submission"
   ]
  },
  {
   "cell_type": "markdown",
   "metadata": {},
   "source": [
    "- Now lets create final complete pipeline which will handle the data preprocessing as well as prediction task."
   ]
  },
  {
   "cell_type": "code",
   "execution_count": null,
   "metadata": {},
   "outputs": [],
   "source": [
    "final_model = Pipeline([('pre_process', pre_process),\n",
    "                        ('voting_reg', voting_reg)])\n",
    "final_model.fit(X, np.log1p(y))"
   ]
  },
  {
   "cell_type": "code",
   "execution_count": null,
   "metadata": {},
   "outputs": [],
   "source": [
    "test_data = pd.read_csv('../input/tmdb-box-office-prediction/test.csv')\n",
    "print(test_data.shape)\n",
    "test_data.head(n=3)"
   ]
  },
  {
   "cell_type": "code",
   "execution_count": null,
   "metadata": {},
   "outputs": [],
   "source": [
    "test_data.info()"
   ]
  },
  {
   "cell_type": "code",
   "execution_count": null,
   "metadata": {},
   "outputs": [],
   "source": [
    "test_data.isna().sum()"
   ]
  },
  {
   "cell_type": "code",
   "execution_count": null,
   "metadata": {},
   "outputs": [],
   "source": [
    "predictions = final_model.predict(test_data)\n",
    "predictions = np.expm1(predictions)"
   ]
  },
  {
   "cell_type": "code",
   "execution_count": null,
   "metadata": {},
   "outputs": [],
   "source": [
    "output = pd.DataFrame(test_data['id'])\n",
    "output['revenue'] = predictions.copy()"
   ]
  },
  {
   "cell_type": "code",
   "execution_count": null,
   "metadata": {},
   "outputs": [],
   "source": [
    "output.head()"
   ]
  },
  {
   "cell_type": "code",
   "execution_count": null,
   "metadata": {},
   "outputs": [],
   "source": [
    "output.to_csv(\"./submission.csv\", index=False)"
   ]
  }
 ],
 "metadata": {
  "kernelspec": {
   "display_name": "Python 3",
   "language": "python",
   "name": "python3"
  },
  "language_info": {
   "codemirror_mode": {
    "name": "ipython",
    "version": 3
   },
   "file_extension": ".py",
   "mimetype": "text/x-python",
   "name": "python",
   "nbconvert_exporter": "python",
   "pygments_lexer": "ipython3",
   "version": "3.8.5"
  }
 },
 "nbformat": 4,
 "nbformat_minor": 4
}
